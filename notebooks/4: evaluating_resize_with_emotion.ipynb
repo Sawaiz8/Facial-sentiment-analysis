{
 "cells": [
  {
   "cell_type": "code",
   "execution_count": 1,
   "metadata": {},
   "outputs": [
    {
     "name": "stderr",
     "output_type": "stream",
     "text": [
      "2023-10-28 14:30:02.047627: I tensorflow/core/platform/cpu_feature_guard.cc:193] This TensorFlow binary is optimized with oneAPI Deep Neural Network Library (oneDNN) to use the following CPU instructions in performance-critical operations:  SSE4.1 SSE4.2 AVX AVX2 AVX512F AVX512_VNNI FMA\n",
      "To enable them in other operations, rebuild TensorFlow with the appropriate compiler flags.\n",
      "2023-10-28 14:30:02.142467: I tensorflow/core/util/port.cc:104] oneDNN custom operations are on. You may see slightly different numerical results due to floating-point round-off errors from different computation orders. To turn them off, set the environment variable `TF_ENABLE_ONEDNN_OPTS=0`.\n"
     ]
    }
   ],
   "source": [
    "import numpy as np\n",
    "import cv2 as cv\n",
    "import time\n",
    "import numpy as np\n",
    "from deepface import DeepFace"
   ]
  },
  {
   "cell_type": "code",
   "execution_count": 8,
   "metadata": {},
   "outputs": [],
   "source": [
    "# Define backends and models\n",
    "backends = [\n",
    "  'retinaface', \n",
    "]"
   ]
  },
  {
   "cell_type": "code",
   "execution_count": 9,
   "metadata": {},
   "outputs": [],
   "source": [
    "def draw(image, bounding_boxes, text):\n",
    "    i = 1\n",
    "    for bbox in bounding_boxes:\n",
    "        x = bbox['region']['x']\n",
    "        y = bbox['region']['y']\n",
    "        w = bbox['region']['w']\n",
    "        h = bbox['region']['h']\n",
    "\n",
    "        # Draw a rectangle on the image\n",
    "        img = cv.rectangle(image, (x, y), (x + w, y + h), (0, 255, 0), 2)  # (0, 255, 0) is the color in BGR format\n",
    "        img = cv.putText(img, text, (x, y - 10), cv.FONT_HERSHEY_SIMPLEX, 0.5, (0, 255, 0), 2)\n",
    "        i+=1\n",
    "    return img "
   ]
  },
  {
   "cell_type": "code",
   "execution_count": 10,
   "metadata": {},
   "outputs": [],
   "source": [
    "def resize_image(srcimg,input_height, input_width, keep_ratio=True):\n",
    "    if keep_ratio and srcimg.shape[0] != srcimg.shape[1]:\n",
    "        hw_scale = srcimg.shape[0] / srcimg.shape[1]\n",
    "        if hw_scale > 1:\n",
    "            newh, neww = input_height, int(input_width / hw_scale)\n",
    "            img = cv.resize(srcimg, (neww, newh), interpolation=cv.INTER_AREA)\n",
    "        else:\n",
    "            newh, neww = int(input_height * hw_scale), input_width\n",
    "            img = cv.resize(srcimg, (neww, newh), interpolation=cv.INTER_AREA)\n",
    "    else:\n",
    "        img = cv.resize(srcimg, (input_width, input_height), interpolation=cv.INTER_AREA)\n",
    "    return img "
   ]
  },
  {
   "cell_type": "code",
   "execution_count": 12,
   "metadata": {},
   "outputs": [
    {
     "name": "stderr",
     "output_type": "stream",
     "text": [
      "2023-10-28 14:33:17.426020: I tensorflow/compiler/xla/stream_executor/cuda/cuda_dnn.cc:428] Loaded cuDNN version 8401\n",
      "2023-10-28 14:33:23.497228: I tensorflow/compiler/xla/stream_executor/cuda/cuda_blas.cc:630] TensorFloat-32 will be used for the matrix multiplication. This will only be logged once.\n"
     ]
    },
    {
     "name": "stdout",
     "output_type": "stream",
     "text": [
      "For retinaface, Elapsed time: 1977.4030644893646 seconds\n"
     ]
    }
   ],
   "source": [
    "video_file_path = 'experimentation_videos/videoplayback.mp4'  # Replace with the path to your video file\n",
    "for i, backend in enumerate(backends):\n",
    "    cap = cv.VideoCapture(video_file_path)\n",
    "    fps = cap.get(cv.CAP_PROP_FPS)\n",
    "    frame_width = int(cap.get(3))\n",
    "    frame_height = int(cap.get(4))\n",
    "    fourcc = cv.VideoWriter_fourcc(*'XVID')\n",
    "    out = cv.VideoWriter('model_output/experiment_4_{i}.avi',cv.VideoWriter_fourcc('M','J','P','G'), fps, (frame_width,frame_height))\n",
    "    if not cap.isOpened():\n",
    "        print(\"Error: Could not open video file.\")\n",
    "\n",
    "    start_time = time.time()\n",
    "\n",
    "    while cap.isOpened():\n",
    "        ret, frame = cap.read()\n",
    "\n",
    "        if not ret:\n",
    "            break\n",
    "\n",
    "        frame = resize_image(frame, frame_height, frame_width)\n",
    "        objs = DeepFace.analyze(frame,\n",
    "                actions = ['emotion'],\n",
    "                enforce_detection=False,\n",
    "                silent=True,\n",
    "                detector_backend=backend\n",
    "        )\n",
    "\n",
    "\n",
    "        frame = draw(frame, objs, objs[0][\"dominant_emotion\"])\n",
    "        out.write(frame)\n",
    "        # cv.imshow(\"Img\", frame)\n",
    "\n",
    "        if cv.waitKey(1) & 0xFF == ord('q'):\n",
    "            break\n",
    "            \n",
    "    cap.release()\n",
    "    out.release() # Release the video file\n",
    "\n",
    "    end_time = time.time()\n",
    "    elapsed_time = end_time - start_time\n",
    "    print(f\"For {backend}, Elapsed time: {elapsed_time} seconds\")\n"
   ]
  },
  {
   "cell_type": "code",
   "execution_count": null,
   "metadata": {},
   "outputs": [],
   "source": [
    "#Retinaface takes about 32 minutes on my system"
   ]
  }
 ],
 "metadata": {
  "interpreter": {
   "hash": "a572b3374607f55d87a96c17b92e594c0ecd4b8b6d22335372a6a5068e636443"
  },
  "kernelspec": {
   "display_name": "Python 3.9.16 ('venture')",
   "language": "python",
   "name": "python3"
  },
  "language_info": {
   "codemirror_mode": {
    "name": "ipython",
    "version": 3
   },
   "file_extension": ".py",
   "mimetype": "text/x-python",
   "name": "python",
   "nbconvert_exporter": "python",
   "pygments_lexer": "ipython3",
   "version": "3.9.16"
  },
  "orig_nbformat": 4
 },
 "nbformat": 4,
 "nbformat_minor": 2
}
