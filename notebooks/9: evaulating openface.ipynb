{
 "cells": [
  {
   "cell_type": "code",
   "execution_count": 1,
   "metadata": {},
   "outputs": [],
   "source": [
    "from ultralytics import YOLO\n",
    "import cv2\n",
    "from deepface.extendedmodels import Emotion\n",
    "import numpy as np\n",
    "from deepface import DeepFace\n",
    "import os"
   ]
  },
  {
   "cell_type": "markdown",
   "metadata": {},
   "source": [
    "# Load Sentiment analysis model"
   ]
  },
  {
   "cell_type": "code",
   "execution_count": 2,
   "metadata": {},
   "outputs": [],
   "source": [
    "senti_model = Emotion.loadModel()"
   ]
  },
  {
   "cell_type": "code",
   "execution_count": 3,
   "metadata": {},
   "outputs": [],
   "source": [
    "labels = {0: \"angry\", 1: \"disgust\", 2:\"fear\", 3:\"happy\", 4:\"sad\", 5:\"surprise\", 6:\"neutral\"}"
   ]
  },
  {
   "cell_type": "code",
   "execution_count": 40,
   "metadata": {},
   "outputs": [],
   "source": [
    "from random import randint\n",
    "colors = dict()\n",
    "for i in range(18):\n",
    "    colors[\"id \" + str(i)] = (randint(0,255), randint(0,255), randint(0,255))\n",
    "colors[\"No ID\"] = (randint(0,255), randint(0,255), randint(0,255))"
   ]
  },
  {
   "cell_type": "code",
   "execution_count": 41,
   "metadata": {},
   "outputs": [],
   "source": [
    "def sentiment_analysis(cropped_image):    \n",
    "    cropped_image = cv2.cvtColor(cropped_image, cv2.COLOR_BGR2GRAY)\n",
    "    cropped_image = cv2.resize(cropped_image, (48,48))\n",
    "    result = senti_model.predict(np.expand_dims(cropped_image, axis=0), verbose=False)\n",
    "    emotion = np.argmax(result)\n",
    "    return emotion\n",
    "\n",
    "def face_verification(cropped_image):\n",
    "    results = DeepFace.find(cropped_image, db_path=\"database/\",  model_name=\"OpenFace\", enforce_detection=False, detector_backend = \"skip\", silent=True)\n",
    "    if len(results[0][\"identity\"]) != 0:\n",
    "        id = results[0][\"identity\"][0].split(\"/\")[-2]\n",
    "    else:\n",
    "        id = \"No ID\"\n",
    "    return id"
   ]
  },
  {
   "cell_type": "markdown",
   "metadata": {},
   "source": [
    "# Write utility functions "
   ]
  },
  {
   "cell_type": "code",
   "execution_count": 42,
   "metadata": {},
   "outputs": [],
   "source": [
    "def draw(image, bounding_boxes, ids=1):\n",
    "    for x, y,w,h in bounding_boxes:\n",
    "\n",
    "        # Draw a rectangle on the image\n",
    "        x = int(x) \n",
    "        y = int(y) \n",
    "        w = int(w) \n",
    "        h = int(h)\n",
    "\n",
    "        l = int((x - w / 2))\n",
    "        r = int((x + w / 2))\n",
    "        t = int((y - h / 2))\n",
    "        b = int((y + h / 2))\n",
    "        \n",
    "        cropped_image = image[t:b, l:r]\n",
    "        emotion = sentiment_analysis(cropped_image)\n",
    "        id = face_verification(cropped_image)\n",
    "        image = cv2.rectangle(image, (l, t), (r, b), colors[id], 2)   \n",
    "        image = cv2.putText(image, f\"{id}: {labels[emotion]}\", (l, t-10), cv2.FONT_HERSHEY_SIMPLEX, 0.5, colors[id], 2)\n",
    "\n",
    "    return image "
   ]
  },
  {
   "cell_type": "markdown",
   "metadata": {},
   "source": [
    "# Run the model"
   ]
  },
  {
   "cell_type": "code",
   "execution_count": 45,
   "metadata": {},
   "outputs": [],
   "source": [
    "# Load the YOLOv8 model\n",
    "model = YOLO('models/yolo_basic/yolov8n.pt')\n",
    "\n",
    "# Open the video file\n",
    "video_path = \"/home/sawaiz/Documents/Lab/In Progress/saved/experimentation_videos/videoplayback.mp4\"\n",
    "cap = cv2.VideoCapture(video_path)\n",
    "fps = cap.get(cv2.CAP_PROP_FPS)\n",
    "frame_width = int(cap.get(3))\n",
    "frame_height = int(cap.get(4))\n",
    "\n",
    "\n",
    "fourcc = cv2.VideoWriter_fourcc(*'mp4v')\n",
    "out = cv2.VideoWriter(os.path.join(\"model_output\", \"output_exp.mp4\"), fourcc, fps, (frame_width,frame_height))  \n",
    "\n",
    "# Loop through the video frames\n",
    "while cap.isOpened():\n",
    "    # Read a frame from the video\n",
    "    success, frame = cap.read()\n",
    "\n",
    "    if success:\n",
    "        # Run YOLOv8 tracking on the frame, persisting tracks between frames\n",
    "        results = model(frame, classes=[0], verbose=False, conf=0.3)\n",
    "\n",
    "        # Visualize the results on the frame\n",
    "        annotated_frame = draw(results[0].orig_img, results[0].boxes.xywh)\n",
    "\n",
    "        # Display the annotated frame\n",
    "        # cv2.imshow(\"YOLOv8 Tracking\", annotated_frame)\n",
    "\n",
    "        #Write the annotated frame\n",
    "        out.write(annotated_frame)\n",
    "\n",
    "        # Break the loop if 'q' is pressed\n",
    "        if cv2.waitKey(1) & 0xFF == ord(\"q\"):\n",
    "            break\n",
    "    else:\n",
    "        break\n",
    "\n",
    "# Release the video capture object and close the display window\n",
    "cap.release()\n",
    "out.release()\n",
    "cv2.destroyAllWindows()"
   ]
  }
 ],
 "metadata": {
  "interpreter": {
   "hash": "61d516de8b14c17ac4afc753bbb958bb470f4ac68b1779d85b7bbffb57d87d9f"
  },
  "kernelspec": {
   "display_name": "Python 3.9.16 ('object')",
   "language": "python",
   "name": "python3"
  },
  "language_info": {
   "codemirror_mode": {
    "name": "ipython",
    "version": 3
   },
   "file_extension": ".py",
   "mimetype": "text/x-python",
   "name": "python",
   "nbconvert_exporter": "python",
   "pygments_lexer": "ipython3",
   "version": "3.9.16"
  },
  "orig_nbformat": 4
 },
 "nbformat": 4,
 "nbformat_minor": 2
}
